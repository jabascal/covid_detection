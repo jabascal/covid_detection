{
  "cells": [
    {
      "cell_type": "markdown",
      "metadata": {
        "id": "nwT-emMcYRti"
      },
      "source": [
        "# Train and fine-tune a classifier on Covid x-rays dataset"
      ]
    },
    {
      "cell_type": "markdown",
      "metadata": {},
      "source": [
        "[![Open In Colab](https://colab.research.google.com/assets/colab-badge.svg)](https://colab.research.google.com/github/jabascal/covid_detection/blob/main/src/covid_xrays_classification_tb_colab.ipynb)"
      ]
    },
    {
      "cell_type": "markdown",
      "metadata": {
        "id": "lOWQZ0BJYVlv"
      },
      "source": [
        "### Set google colab"
      ]
    },
    {
      "cell_type": "markdown",
      "metadata": {
        "id": "qYXt_MQUYXuf"
      },
      "source": [
        "On colab, to run on GPU, select *GPU* from the navigation menu *Runtime/Change runtime type*."
      ]
    },
    {
      "cell_type": "code",
      "execution_count": null,
      "metadata": {
        "id": "pcGqVp09WuLL"
      },
      "outputs": [],
      "source": [
        "!nvidia-smi"
      ]
    },
    {
      "cell_type": "markdown",
      "metadata": {
        "id": "ndL1vgTWYbkc"
      },
      "source": [
        "Set *mode_colab=True* to run in colab. Mount google drive"
      ]
    },
    {
      "cell_type": "code",
      "execution_count": null,
      "metadata": {
        "id": "G1-YGYxsYd2R"
      },
      "outputs": [],
      "source": [
        "mode_colab = True\n",
        "if (mode_colab is True):\n",
        "    # Connect to googledrive\n",
        "    #if 'google.colab' in str(get_ipython()):\n",
        "    # Mount google drive to access files via colab\n",
        "    from google.colab import drive\n",
        "    drive.mount(\"/content/gdrive\")\n",
        "    %cd /content/gdrive/MyDrive/\n",
        "\n",
        "    # For the profiler\n",
        "    !pip install -U tensorboard-plugin-profile\n",
        "    !pip install mlflow\n",
        "\n",
        "    # Load the TensorBoard notebook extension\n",
        "    %load_ext tensorboard"
      ]
    },
    {
      "cell_type": "markdown",
      "metadata": {
        "id": "3IWnweU6YgD3"
      },
      "source": [
        "### Clone repository"
      ]
    },
    {
      "cell_type": "code",
      "execution_count": null,
      "metadata": {
        "id": "kmUiGr2MYfla"
      },
      "outputs": [],
      "source": [
        "if mode_colab:\n",
        "    # Clone repository\n",
        "    !git clone https://github.com/jabascal/covid_detection.git\n",
        "    %cd covid_detection/src\n",
        "    #!pip install -r requirements.txt\n"
      ]
    },
    {
      "cell_type": "markdown",
      "metadata": {
        "id": "pBgl1mFGY1_R"
      },
      "source": [
        "### Dependencies"
      ]
    },
    {
      "cell_type": "code",
      "execution_count": null,
      "metadata": {
        "id": "bW8Wq1DZY1Ee"
      },
      "outputs": [],
      "source": [
        "import random\n",
        "import os\n",
        "import datetime\n",
        "import tensorflow as tf\n",
        "\n",
        "from utils.helper_in_out import load_config\n",
        "from utils.helper_tf import train_finetune_clf\n",
        "\n",
        "random.seed(123)\n"
      ]
    },
    {
      "cell_type": "markdown",
      "metadata": {
        "id": "FsDCgOfOZSyA"
      },
      "source": [
        "### Load config file"
      ]
    },
    {
      "cell_type": "code",
      "execution_count": null,
      "metadata": {
        "id": "LtphrM5GZUkB"
      },
      "outputs": [],
      "source": [
        "# Parse config file\n",
        "config_file = 'config/config_clf.yaml'\n",
        "\n",
        "# Laod config file\n",
        "param = load_config(config_file)"
      ]
    },
    {
      "cell_type": "markdown",
      "metadata": {},
      "source": [
        "### Verify dataset location"
      ]
    },
    {
      "cell_type": "markdown",
      "metadata": {},
      "source": [
        "Download data to desired path in drive and check the path"
      ]
    },
    {
      "cell_type": "code",
      "execution_count": null,
      "metadata": {},
      "outputs": [],
      "source": [
        "# Check data path\n",
        "# data_path = param['data']['path']\n",
        "train_path = '../../Colab_Notebooks/Data/COVID-19_CXR_Dataset_final_train'\n",
        "test_path = '../../Colab_Notebooks/Data/COVID-19_CXR_Dataset_final_test\n",
        "\n",
        "print(f\"Train data Location {train_path}\")\n",
        "!ls $train_path\n",
        "print(f\"Test data Location {test_path}\")\n",
        "!ls $test_path\n",
        "\n",
        "# Reset path \n",
        "param['data']['train_path'] = train_path\n",
        "param['data']['test_path'] = test_path"
      ]
    },
    {
      "cell_type": "markdown",
      "metadata": {},
      "source": [
        "### Tensorboard"
      ]
    },
    {
      "cell_type": "markdown",
      "metadata": {},
      "source": [
        "You can launch tensorboard before or after training. If done before, you can update the visualization to see progress during training. "
      ]
    },
    {
      "cell_type": "code",
      "execution_count": null,
      "metadata": {},
      "outputs": [],
      "source": [
        "# Launch TensorBoard\n",
        "tb_path = param['tb']['log_dir']\n",
        "if not os.path.exists(tb_path):\n",
        "    os.makedirs(tb_path)\n",
        "    print(f\"Created path {tb_path}\")\n",
        "%tensorboard --logdir $tb_path"
      ]
    },
    {
      "cell_type": "markdown",
      "metadata": {},
      "source": [
        "Set a permanent link to upload TensorBoard logs with TensorBoard.dev "
      ]
    },
    {
      "cell_type": "markdown",
      "metadata": {},
      "source": [
        "### mlflow"
      ]
    },
    {
      "cell_type": "markdown",
      "metadata": {},
      "source": [
        "Tracking experiments with mlflow"
      ]
    },
    {
      "cell_type": "code",
      "execution_count": null,
      "metadata": {},
      "outputs": [],
      "source": [
        "# Set MLflow tracking\n",
        "if param['mlflow']['tracking']:\n",
        "    from utils.helper_mlflow import set_mlflow\n",
        "    set_mlflow(config_file=config_file, \n",
        "                experiment_id=param['mlflow']['experiment_id'],\n",
        "                experiment_name=param['mlflow']['experiment_name'],\n",
        "                run_name=param['mlflow']['run_name'])"
      ]
    },
    {
      "cell_type": "markdown",
      "metadata": {
        "id": "GPh3QQzeZoc0"
      },
      "source": [
        "### Train"
      ]
    },
    {
      "cell_type": "code",
      "execution_count": null,
      "metadata": {
        "id": "VHmnbQe4Zpar"
      },
      "outputs": [],
      "source": [
        "%%timeit\n",
        "# Train and fine-tune a classifier model\n",
        "model, history, test_loss, test_acc = train_finetune_clf(\n",
        "                        # Data\n",
        "                        train_dir=param['data']['train_path'],\n",
        "                        test_dir=param['data']['test_path'],\n",
        "                        val_dir=param['data']['val_path'],\n",
        "                        img_height=param['data']['img_height'],\n",
        "                        img_width=param['data']['img_width'],\n",
        "                        batch_size=param['train']['batch_size'],\n",
        "                        validation_split=param['data']['val_split'],\n",
        "                        test_split=param['data']['test_split'],\n",
        "                        color_mode=param['data']['color'],\n",
        "                        augmentation_param=param['data']['augmentation'],\n",
        "                        cache=param['data']['cache'],\n",
        "                        shuffle=param['data']['shuffle'],\n",
        "                        # Model\n",
        "                        base_model_name=param['model']['base_model_name'],\n",
        "                        model_num_channels=param['model']['num_channels'],\n",
        "                        dropout=param['model']['dropout'],\n",
        "                        path_save_model=param['model']['path_save'],\n",
        "                        # Train\n",
        "                        initial_epochs=param['train']['epochs'],\n",
        "                        fine_tune_at_perc=param['train']['fine_tune_at_perc'],\n",
        "                        base_learning_rate=param['train']['lr'],\n",
        "                        fine_tune_epochs=param['train']['epochs_finetune'],\n",
        "                        ft_learning_rate=param['train']['lr_finetune'],\n",
        "                        metrics=param['train']['metrics'],\n",
        "                        mode_display=param['train']['mode_display'],\n",
        "                        # Tensorboard\n",
        "                        log_dir=param['tb']['log_dir'],\n",
        "                        histogram_freq=param['tb']['histogram_freq'],\n",
        "                        profile_batch=param['tb']['profile_batch'],\n",
        "                        # Early stopping\n",
        "                        early_stopping_patience=param['tb']['early_stopping']['patience'],\n",
        "                        early_stopping_monitor=param['tb']['early_stopping']['monitor'],\n",
        "                        # Model checkpoint\n",
        "                        ckpt_freq=param['tb']['model_ckpt']['ckpt_freq'],\n",
        "                        ckpt_path=param['tb']['model_ckpt']['ckpt_path'],\n",
        "                        ckpt_monitor=param['tb']['model_ckpt']['ckpt_monitor'],\n",
        "                        # Reduce learning rate\n",
        "                        reduce_lr_monitor=param['tb']['reduce_lr']['monitor'],\n",
        "                        reduce_lr_factor=param['tb']['reduce_lr']['factor'],\n",
        "                        reduce_lr_patience=param['tb']['reduce_lr']['patience'],\n",
        "                        reduce_lr_min=param['tb']['reduce_lr']['min_lr']\n",
        "                        # Config file\n",
        "                        config_file = config_file,\n",
        "    )"
      ]
    },
    {
      "cell_type": "code",
      "execution_count": null,
      "metadata": {},
      "outputs": [],
      "source": [
        "# Copy config file\n",
        "import shutil   \n",
        "shutil.copyfile(config_file, os.path.join(param['tb']['log_dir'], 'config.yaml'))\n"
      ]
    },
    {
      "cell_type": "code",
      "execution_count": null,
      "metadata": {},
      "outputs": [],
      "source": [
        "# Stop mlflow\n",
        "if param['mlflow']['tracking']:\n",
        "    from utils.helper_mlflow import stop_mlflow\n",
        "    stop_mlflow()"
      ]
    },
    {
      "cell_type": "markdown",
      "metadata": {},
      "source": [
        "### Close colab session!"
      ]
    },
    {
      "cell_type": "markdown",
      "metadata": {},
      "source": [
        "Don't forget to close colab session by deleting the instance at the upper menu Runtime/Manage sessions/."
      ]
    }
  ],
  "metadata": {
    "accelerator": "GPU",
    "colab": {
      "gpuType": "V100",
      "machine_shape": "hm",
      "provenance": []
    },
    "kernelspec": {
      "display_name": "Python 3",
      "name": "python3"
    },
    "language_info": {
      "name": "python"
    }
  },
  "nbformat": 4,
  "nbformat_minor": 0
}
