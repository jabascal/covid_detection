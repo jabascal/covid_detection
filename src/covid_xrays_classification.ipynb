{
  "cells": [
    {
      "cell_type": "markdown",
      "metadata": {
        "id": "nwT-emMcYRti"
      },
      "source": [
        "# Train and fine-tune a classifier on Covid x-rays dataset"
      ]
    },
    {
      "cell_type": "markdown",
      "metadata": {},
      "source": [
        "[![Open In Colab](https://colab.research.google.com/assets/colab-badge.svg)](https://colab.research.google.com/github/blob/main/src/tutorial/covid_xrays_classification.ipynb)"
      ]
    },
    {
      "cell_type": "markdown",
      "metadata": {
        "id": "lOWQZ0BJYVlv"
      },
      "source": [
        "### Set google colab"
      ]
    },
    {
      "cell_type": "markdown",
      "metadata": {
        "id": "qYXt_MQUYXuf"
      },
      "source": [
        "On colab, to run on GPU, select *GPU* from the navigation menu *Runtime/Change runtime type*."
      ]
    },
    {
      "cell_type": "code",
      "execution_count": null,
      "metadata": {
        "id": "pcGqVp09WuLL"
      },
      "outputs": [],
      "source": [
        "!nvidia-smi"
      ]
    },
    {
      "cell_type": "markdown",
      "metadata": {
        "id": "ndL1vgTWYbkc"
      },
      "source": [
        "Set *mode_colab=True* to run in colab. Mount google drive"
      ]
    },
    {
      "cell_type": "code",
      "execution_count": null,
      "metadata": {
        "id": "G1-YGYxsYd2R"
      },
      "outputs": [],
      "source": [
        "mode_colab = True\n",
        "if (mode_colab is True):\n",
        "    # Connect to googledrive\n",
        "    #if 'google.colab' in str(get_ipython()):\n",
        "    # Mount google drive to access files via colab\n",
        "    from google.colab import drive\n",
        "    drive.mount(\"/content/gdrive\")\n",
        "    %cd /content/gdrive/MyDrive/"
      ]
    },
    {
      "cell_type": "markdown",
      "metadata": {
        "id": "3IWnweU6YgD3"
      },
      "source": [
        "### Clone repository"
      ]
    },
    {
      "cell_type": "code",
      "execution_count": null,
      "metadata": {
        "id": "kmUiGr2MYfla"
      },
      "outputs": [],
      "source": [
        "if mode_colab:\n",
        "    # Clone repository\n",
        "    !git clone https://github.com/jabascal/covid_detection.git\n",
        "    %cd covid_detection/src\n",
        "    #!pip install -r requirements.txt\n"
      ]
    },
    {
      "cell_type": "markdown",
      "metadata": {
        "id": "pBgl1mFGY1_R"
      },
      "source": [
        "### Dependencies"
      ]
    },
    {
      "cell_type": "code",
      "execution_count": null,
      "metadata": {
        "id": "bW8Wq1DZY1Ee"
      },
      "outputs": [],
      "source": [
        "import random\n",
        "\n",
        "from utils.helper_in_out import load_config\n",
        "from utils.helper_tf import train_finetune_clf\n",
        "\n",
        "random.seed(123)\n"
      ]
    },
    {
      "cell_type": "markdown",
      "metadata": {
        "id": "FsDCgOfOZSyA"
      },
      "source": [
        "### Load config file"
      ]
    },
    {
      "cell_type": "code",
      "execution_count": null,
      "metadata": {
        "id": "LtphrM5GZUkB"
      },
      "outputs": [],
      "source": [
        "# Parse config file\n",
        "config_file = 'config/config_clf.yaml'\n",
        "\n",
        "# Laod config file\n",
        "param = load_config(config_file)"
      ]
    },
    {
      "cell_type": "markdown",
      "metadata": {
        "id": "GPh3QQzeZoc0"
      },
      "source": [
        "### Train"
      ]
    },
    {
      "cell_type": "code",
      "execution_count": null,
      "metadata": {
        "id": "VHmnbQe4Zpar"
      },
      "outputs": [],
      "source": [
        "train_finetune_clf(data_dir=param['data']['path'],\n",
        "                        img_height=param['data']['img_height'],\n",
        "                        img_width=param['data']['img_width'],\n",
        "                        batch_size=param['train']['batch_size'],\n",
        "                        validation_split=param['data']['val_split'],\n",
        "                        test_split=param['data']['test_split'],\n",
        "                        color_mode=param['data']['color'],\n",
        "                        augmentation_param=param['data']['augmentation'],\n",
        "                        cache=param['data']['cache'],\n",
        "                        shuffle=param['data']['shuffle'],\n",
        "                        #\n",
        "                        base_model_name=param['model']['base_model_name'],\n",
        "                        model_num_channels=param['model']['num_channels'],\n",
        "                        dropout=param['model']['dropout'],\n",
        "                        #\n",
        "                        initial_epochs=param['train']['epochs'],\n",
        "                        fine_tune_at_perc=param['train']['fine_tune_at_perc'],\n",
        "                        base_learning_rate=param['train']['lr'],\n",
        "                        fine_tune_epochs=param['train']['epochs_finetune'],\n",
        "                        ft_learning_rate=param['train']['lr_finetune'],\n",
        "                        metrics=param['train']['metrics'],\n",
        "                        mode_display=param['train']['mode_display'],\n",
        "    )"
      ]
    }
  ],
  "metadata": {
    "accelerator": "GPU",
    "colab": {
      "gpuType": "V100",
      "machine_shape": "hm",
      "provenance": []
    },
    "kernelspec": {
      "display_name": "Python 3",
      "name": "python3"
    },
    "language_info": {
      "name": "python"
    }
  },
  "nbformat": 4,
  "nbformat_minor": 0
}
